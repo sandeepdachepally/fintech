{
 "cells": [
  {
   "cell_type": "code",
   "execution_count": null,
   "metadata": {},
   "outputs": [],
   "source": [
    "import json\n",
    "import csv\n",
    "import pandas as pd\n",
    "import numpy as np"
   ]
  },
  {
   "cell_type": "code",
   "execution_count": null,
   "metadata": {},
   "outputs": [],
   "source": [
    "def json2csv(json_name, csv_name, key):\n",
    "    with open(json_name) as json_file:\n",
    "        data = json.load(json_file)\n",
    "    transaction_data = data[key]\n",
    "    data_file = open(csv_name, 'w') \n",
    "    csv_writer = csv.writer(data_file)\n",
    "    count = 0\n",
    "    for tran in transaction_data:\n",
    "        if count == 0: \n",
    "            # Writing headers of CSV file \n",
    "            header = tran.keys()\n",
    "            csv_writer.writerow(header) \n",
    "            count += 1\n",
    "        # Writing data of CSV file \n",
    "        csv_writer.writerow(tran.values())\n",
    "    data_file.close() "
   ]
  },
  {
   "cell_type": "code",
   "execution_count": null,
   "metadata": {},
   "outputs": [],
   "source": [
    "json2csv('allfidata_fish.json', 'bank_details.csv', 'data')"
   ]
  },
  {
   "cell_type": "code",
   "execution_count": null,
   "metadata": {},
   "outputs": [],
   "source": [
    "df = pd.read_csv('bank_details.csv')"
   ]
  },
  {
   "cell_type": "code",
   "execution_count": null,
   "metadata": {},
   "outputs": [],
   "source": [
    "df"
   ]
  },
  {
   "cell_type": "code",
   "execution_count": null,
   "metadata": {},
   "outputs": [],
   "source": [
    "df[\"Summary\"]"
   ]
  },
  {
   "cell_type": "code",
   "execution_count": null,
   "metadata": {},
   "outputs": [],
   "source": [
    "type(df.at[0,\"Summary\"])"
   ]
  },
  {
   "cell_type": "code",
   "execution_count": null,
   "metadata": {},
   "outputs": [],
   "source": [
    "df.at[1,\"Summary\"]"
   ]
  },
  {
   "cell_type": "code",
   "execution_count": null,
   "metadata": {},
   "outputs": [],
   "source": [
    "# li = df[\"Summary\"][0].split(',')\n",
    "# li"
   ]
  },
  {
   "cell_type": "code",
   "execution_count": null,
   "metadata": {},
   "outputs": [],
   "source": [
    "# stri = df.at[0,\"Summary\"].replace(\"{\",\"\")\n",
    "# stri = stri.replace(\"'\",'')"
   ]
  },
  {
   "cell_type": "code",
   "execution_count": null,
   "metadata": {},
   "outputs": [],
   "source": [
    "#stri"
   ]
  },
  {
   "cell_type": "code",
   "execution_count": null,
   "metadata": {},
   "outputs": [],
   "source": [
    "#li = stri.split(',')\n",
    "#li"
   ]
  },
  {
   "cell_type": "code",
   "execution_count": null,
   "metadata": {},
   "outputs": [],
   "source": [
    "#balance = li[0].split(':')"
   ]
  },
  {
   "cell_type": "code",
   "execution_count": null,
   "metadata": {},
   "outputs": [],
   "source": [
    "# current_balance = balance[1].strip()\n",
    "# bank_name = df.at[0,\"bank\"]\n",
    "# bank_name"
   ]
  },
  {
   "cell_type": "code",
   "execution_count": null,
   "metadata": {},
   "outputs": [],
   "source": [
    "df.shape"
   ]
  },
  {
   "cell_type": "code",
   "execution_count": null,
   "metadata": {},
   "outputs": [],
   "source": [
    "bank_name, account_type, account_no, balances = [], [], [], []\n",
    "for i in range(df.shape[0]):\n",
    "    type_ac = ''\n",
    "    li = ''\n",
    "    sti1 = ''\n",
    "    type_account1 = ''\n",
    "    stri1 = df.at[i,\"Summary\"].replace(\"{\",\"\")\n",
    "    stri1 = stri1.replace(\"}\",\"\")\n",
    "    stri1 = stri1.replace(\"'\",'')\n",
    "    #print(stri1)\n",
    "    li = stri1.split(',')\n",
    "    #print(li)\n",
    "    type_ac = li[4].split(':')\n",
    "    #print(type_ac)\n",
    "    type_account1 = type_ac[1].strip() \n",
    "    #print(type_account1)\n",
    "    if type_account1 == \"SAVINGS\":\n",
    "        #print(\"in\")\n",
    "        bank_name1 = df.at[i,\"bank\"] #Bank name\n",
    "        balance = li[0].split(':')\n",
    "        current_balance1 = balance[1].strip() #Current balance\n",
    "        account_no1 = df.at[i,\"maskedAccountNumber\"] #Account no\n",
    "        bank_name.append(bank_name1)\n",
    "        account_type.append(type_account1)\n",
    "        account_no.append(account_no1)\n",
    "        balances.append(current_balance1)\n",
    "        \n",
    "        #Account Type\n",
    "        #print (bank_name1, current_balance1, account_no1, type_account1)\n",
    "\n"
   ]
  },
  {
   "cell_type": "code",
   "execution_count": null,
   "metadata": {},
   "outputs": [],
   "source": [
    "balances"
   ]
  },
  {
   "cell_type": "code",
   "execution_count": null,
   "metadata": {},
   "outputs": [],
   "source": [
    "df_out = pd.DataFrame({\"bankName\": bank_name, \"currentBalance\": balances, \"accountNo\": account_no, \"typeAccount\": account_type})\n",
    "df_out"
   ]
  },
  {
   "cell_type": "code",
   "execution_count": null,
   "metadata": {},
   "outputs": [],
   "source": [
    "df_out.to_json(\"../web-app/server/src/output_df.json\", orient = 'records')"
   ]
  },
  {
   "cell_type": "code",
   "execution_count": null,
   "metadata": {},
   "outputs": [],
   "source": []
  }
 ],
 "metadata": {
  "kernelspec": {
   "display_name": "Python 3",
   "language": "python",
   "name": "python3"
  },
  "language_info": {
   "codemirror_mode": {
    "name": "ipython",
    "version": 3
   },
   "file_extension": ".py",
   "mimetype": "text/x-python",
   "name": "python",
   "nbconvert_exporter": "python",
   "pygments_lexer": "ipython3",
   "version": "3.7.7"
  },
  "toc": {
   "base_numbering": 1,
   "nav_menu": {},
   "number_sections": true,
   "sideBar": true,
   "skip_h1_title": false,
   "title_cell": "Table of Contents",
   "title_sidebar": "Contents",
   "toc_cell": false,
   "toc_position": {},
   "toc_section_display": true,
   "toc_window_display": false
  },
  "varInspector": {
   "cols": {
    "lenName": 16,
    "lenType": 16,
    "lenVar": 40
   },
   "kernels_config": {
    "python": {
     "delete_cmd_postfix": "",
     "delete_cmd_prefix": "del ",
     "library": "var_list.py",
     "varRefreshCmd": "print(var_dic_list())"
    },
    "r": {
     "delete_cmd_postfix": ") ",
     "delete_cmd_prefix": "rm(",
     "library": "var_list.r",
     "varRefreshCmd": "cat(var_dic_list()) "
    }
   },
   "types_to_exclude": [
    "module",
    "function",
    "builtin_function_or_method",
    "instance",
    "_Feature"
   ],
   "window_display": false
  }
 },
 "nbformat": 4,
 "nbformat_minor": 4
}