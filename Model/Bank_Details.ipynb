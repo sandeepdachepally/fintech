{
 "cells": [
  {
   "cell_type": "code",
   "execution_count": 1,
   "metadata": {},
   "outputs": [],
   "source": [
    "import json\n",
    "import csv\n",
    "import pandas as pd\n",
    "import numpy as np"
   ]
  },
  {
   "cell_type": "code",
   "execution_count": 11,
   "metadata": {},
   "outputs": [],
   "source": [
    "def json2csv(json_name, csv_name, key):\n",
    "    with open(json_name) as json_file:\n",
    "        data = json.load(json_file)\n",
    "    transaction_data = data[key]\n",
    "    data_file = open(csv_name, 'w') \n",
    "    csv_writer = csv.writer(data_file)\n",
    "    count = 0\n",
    "    for tran in transaction_data:\n",
    "        if count == 0: \n",
    "            # Writing headers of CSV file \n",
    "            header = tran.keys()\n",
    "            csv_writer.writerow(header) \n",
    "            count += 1\n",
    "        # Writing data of CSV file \n",
    "        csv_writer.writerow(tran.values())\n",
    "    data_file.close() "
   ]
  },
  {
   "cell_type": "code",
   "execution_count": 19,
   "metadata": {},
   "outputs": [],
   "source": [
    "json2csv('shreya_allfidata.json', 'bank_details.csv', 'accounts')"
   ]
  },
  {
   "cell_type": "code",
   "execution_count": 20,
   "metadata": {},
   "outputs": [],
   "source": [
    "df = pd.read_csv('bank_details.csv')"
   ]
  },
  {
   "cell_type": "code",
   "execution_count": 21,
   "metadata": {},
   "outputs": [
    {
     "data": {
      "text/html": [
       "<div>\n",
       "<style scoped>\n",
       "    .dataframe tbody tr th:only-of-type {\n",
       "        vertical-align: middle;\n",
       "    }\n",
       "\n",
       "    .dataframe tbody tr th {\n",
       "        vertical-align: top;\n",
       "    }\n",
       "\n",
       "    .dataframe thead th {\n",
       "        text-align: right;\n",
       "    }\n",
       "</style>\n",
       "<table border=\"1\" class=\"dataframe\">\n",
       "  <thead>\n",
       "    <tr style=\"text-align: right;\">\n",
       "      <th></th>\n",
       "      <th>linkReferenceNumber</th>\n",
       "      <th>maskedAccountNumber</th>\n",
       "      <th>bank</th>\n",
       "      <th>profile</th>\n",
       "      <th>Summary</th>\n",
       "      <th>Transactions</th>\n",
       "    </tr>\n",
       "  </thead>\n",
       "  <tbody>\n",
       "    <tr>\n",
       "      <th>0</th>\n",
       "      <td>11fabe78-0a59-4c721-8f3db-574e54779d236</td>\n",
       "      <td>XXXXXXXXXX1006</td>\n",
       "      <td>PNB</td>\n",
       "      <td>{'Holders': {'Holder': [{'name': 'Shreya Sinha...</td>\n",
       "      <td>{'currentBalance': '554047', 'currency': 'INR'...</td>\n",
       "      <td>[{'transactionTimestamp': '2019-08-01T002:01:1...</td>\n",
       "    </tr>\n",
       "    <tr>\n",
       "      <th>1</th>\n",
       "      <td>4797da3f8-75df-42359-8e61-a710d7e114fa</td>\n",
       "      <td>XXXXXXXXXX5055</td>\n",
       "      <td>ICICI Bank</td>\n",
       "      <td>{'Holders': {'Holder': [{'name': 'Ms. Shreya S...</td>\n",
       "      <td>{'branch': 'Jayanagar 4th Block', 'openingDate...</td>\n",
       "      <td>[{'Txnid': 'M4785435', 'Amount': '100000.00', ...</td>\n",
       "    </tr>\n",
       "    <tr>\n",
       "      <th>2</th>\n",
       "      <td>4797daf8-75df-4359-u7861-a710d7e114fa</td>\n",
       "      <td>XXXXXXXXXX2424</td>\n",
       "      <td>Axis Bank</td>\n",
       "      <td>{'Holders': {'Holder': [{'name': 'Ms. Shreya S...</td>\n",
       "      <td>{'branch': 'Jayanagar 4th Block', 'openingDate...</td>\n",
       "      <td>[{'txnid': 'M478522', 'amount': '200000.00', '...</td>\n",
       "    </tr>\n",
       "    <tr>\n",
       "      <th>3</th>\n",
       "      <td>4797dadf8-7d5df-4359-8e61-a710d7e114fa</td>\n",
       "      <td>XXXXXXXXXX6932</td>\n",
       "      <td>Axis Bank</td>\n",
       "      <td>{'Holders': {'Holder': [{'name': 'Ms. Shreya  ...</td>\n",
       "      <td>{'branch': 'Jayanagar 4th Block', 'openingDate...</td>\n",
       "      <td>[{'Txnid': 'M111223', 'Amount': '500000.00', '...</td>\n",
       "    </tr>\n",
       "    <tr>\n",
       "      <th>4</th>\n",
       "      <td>d68ddda8-326d-42365-afd1-4f0822eb5d7e</td>\n",
       "      <td>XXXXXXXXXX1122</td>\n",
       "      <td>FinShareBankServer</td>\n",
       "      <td>{'Holders': {'Holder': [{'name': 'Shreya Sinha...</td>\n",
       "      <td>{'branch': 'JayaNagar 4th Block', 'openingDate...</td>\n",
       "      <td>[{'Txnid': 'M2587459', 'Amount': '5000.00', 'N...</td>\n",
       "    </tr>\n",
       "  </tbody>\n",
       "</table>\n",
       "</div>"
      ],
      "text/plain": [
       "                       linkReferenceNumber maskedAccountNumber  \\\n",
       "0  11fabe78-0a59-4c721-8f3db-574e54779d236      XXXXXXXXXX1006   \n",
       "1   4797da3f8-75df-42359-8e61-a710d7e114fa      XXXXXXXXXX5055   \n",
       "2    4797daf8-75df-4359-u7861-a710d7e114fa      XXXXXXXXXX2424   \n",
       "3   4797dadf8-7d5df-4359-8e61-a710d7e114fa      XXXXXXXXXX6932   \n",
       "4    d68ddda8-326d-42365-afd1-4f0822eb5d7e      XXXXXXXXXX1122   \n",
       "\n",
       "                 bank                                            profile  \\\n",
       "0                 PNB  {'Holders': {'Holder': [{'name': 'Shreya Sinha...   \n",
       "1          ICICI Bank  {'Holders': {'Holder': [{'name': 'Ms. Shreya S...   \n",
       "2           Axis Bank  {'Holders': {'Holder': [{'name': 'Ms. Shreya S...   \n",
       "3           Axis Bank  {'Holders': {'Holder': [{'name': 'Ms. Shreya  ...   \n",
       "4  FinShareBankServer  {'Holders': {'Holder': [{'name': 'Shreya Sinha...   \n",
       "\n",
       "                                             Summary  \\\n",
       "0  {'currentBalance': '554047', 'currency': 'INR'...   \n",
       "1  {'branch': 'Jayanagar 4th Block', 'openingDate...   \n",
       "2  {'branch': 'Jayanagar 4th Block', 'openingDate...   \n",
       "3  {'branch': 'Jayanagar 4th Block', 'openingDate...   \n",
       "4  {'branch': 'JayaNagar 4th Block', 'openingDate...   \n",
       "\n",
       "                                        Transactions  \n",
       "0  [{'transactionTimestamp': '2019-08-01T002:01:1...  \n",
       "1  [{'Txnid': 'M4785435', 'Amount': '100000.00', ...  \n",
       "2  [{'txnid': 'M478522', 'amount': '200000.00', '...  \n",
       "3  [{'Txnid': 'M111223', 'Amount': '500000.00', '...  \n",
       "4  [{'Txnid': 'M2587459', 'Amount': '5000.00', 'N...  "
      ]
     },
     "execution_count": 21,
     "metadata": {},
     "output_type": "execute_result"
    }
   ],
   "source": [
    "df"
   ]
  },
  {
   "cell_type": "code",
   "execution_count": 23,
   "metadata": {},
   "outputs": [
    {
     "data": {
      "text/plain": [
       "0    {'currentBalance': '554047', 'currency': 'INR'...\n",
       "1    {'branch': 'Jayanagar 4th Block', 'openingDate...\n",
       "2    {'branch': 'Jayanagar 4th Block', 'openingDate...\n",
       "3    {'branch': 'Jayanagar 4th Block', 'openingDate...\n",
       "4    {'branch': 'JayaNagar 4th Block', 'openingDate...\n",
       "Name: Summary, dtype: object"
      ]
     },
     "execution_count": 23,
     "metadata": {},
     "output_type": "execute_result"
    }
   ],
   "source": [
    "df[\"Summary\"]"
   ]
  },
  {
   "cell_type": "code",
   "execution_count": 25,
   "metadata": {},
   "outputs": [
    {
     "data": {
      "text/plain": [
       "str"
      ]
     },
     "execution_count": 25,
     "metadata": {},
     "output_type": "execute_result"
    }
   ],
   "source": [
    "type(df.at[0,\"Summary\"])"
   ]
  },
  {
   "cell_type": "code",
   "execution_count": 26,
   "metadata": {},
   "outputs": [
    {
     "data": {
      "text/plain": [
       "\"{'branch': 'Jayanagar 4th Block', 'openingDate': '2019-12-22', 'ifsc': 'ICIC0001124', 'accountType': 'FIXED', 'maturityAmount': '105622.00', 'maturityDate': '2021-01-16', 'description': '390 Days Cumulative Term Deposit ', 'interestPayout': 'OnMaturity', 'interestRate': '5.15', 'principalAmount': '100000.00', 'tenureDays': '390', 'tenureMonths': '0', 'tenureYears': '0', 'interestComputation': 'COMPOUND', 'compoundingFrequency': 'QUARTERLY', 'interestPeriodicPayoutAmount': '0', 'interestOnMaturity': '5622', 'currentValue': '100000.00'}\""
      ]
     },
     "execution_count": 26,
     "metadata": {},
     "output_type": "execute_result"
    }
   ],
   "source": [
    "df.at[1,\"Summary\"]"
   ]
  },
  {
   "cell_type": "code",
   "execution_count": 27,
   "metadata": {},
   "outputs": [],
   "source": [
    "# li = df[\"Summary\"][0].split(',')\n",
    "# li"
   ]
  },
  {
   "cell_type": "code",
   "execution_count": 28,
   "metadata": {},
   "outputs": [],
   "source": [
    "# stri = df.at[0,\"Summary\"].replace(\"{\",\"\")\n",
    "# stri = stri.replace(\"'\",'')"
   ]
  },
  {
   "cell_type": "code",
   "execution_count": 29,
   "metadata": {},
   "outputs": [],
   "source": [
    "#stri"
   ]
  },
  {
   "cell_type": "code",
   "execution_count": 30,
   "metadata": {},
   "outputs": [],
   "source": [
    "#li = stri.split(',')\n",
    "#li"
   ]
  },
  {
   "cell_type": "code",
   "execution_count": 31,
   "metadata": {},
   "outputs": [],
   "source": [
    "#balance = li[0].split(':')"
   ]
  },
  {
   "cell_type": "code",
   "execution_count": 32,
   "metadata": {},
   "outputs": [],
   "source": [
    "# current_balance = balance[1].strip()\n",
    "# bank_name = df.at[0,\"bank\"]\n",
    "# bank_name"
   ]
  },
  {
   "cell_type": "code",
   "execution_count": 33,
   "metadata": {},
   "outputs": [
    {
     "data": {
      "text/plain": [
       "(5, 6)"
      ]
     },
     "execution_count": 33,
     "metadata": {},
     "output_type": "execute_result"
    }
   ],
   "source": [
    "df.shape"
   ]
  },
  {
   "cell_type": "code",
   "execution_count": 34,
   "metadata": {},
   "outputs": [],
   "source": [
    "bank_name, account_type, account_no, balances = [], [], [], []\n",
    "for i in range(df.shape[0]):\n",
    "    type_ac = ''\n",
    "    li = ''\n",
    "    sti1 = ''\n",
    "    type_account1 = ''\n",
    "    stri1 = df.at[i,\"Summary\"].replace(\"{\",\"\")\n",
    "    stri1 = stri1.replace(\"'\",'')\n",
    "    #print(stri1)\n",
    "    li = stri1.split(',')\n",
    "    #print(li)\n",
    "    type_ac = li[4].split(':')\n",
    "    #print(type_ac)\n",
    "    type_account1 = type_ac[1].strip() \n",
    "    #print(type_account1)\n",
    "    if type_account1 == \"SAVINGS\":\n",
    "        #print(\"in\")\n",
    "        bank_name1 = df.at[i,\"bank\"] #Bank name\n",
    "        balance = li[0].split(':')\n",
    "        current_balance1 = balance[1].strip() #Current balance\n",
    "        account_no1 = df.at[i,\"maskedAccountNumber\"] #Account no\n",
    "        bank_name.append(bank_name1)\n",
    "        account_type.append(type_account1)\n",
    "        account_no.append(account_no1)\n",
    "        balances.append(current_balance1)\n",
    "        \n",
    "        #Account Type\n",
    "        #print (bank_name1, current_balance1, account_no1, type_account1)\n",
    "\n"
   ]
  },
  {
   "cell_type": "code",
   "execution_count": 35,
   "metadata": {},
   "outputs": [
    {
     "data": {
      "text/plain": [
       "['554047']"
      ]
     },
     "execution_count": 35,
     "metadata": {},
     "output_type": "execute_result"
    }
   ],
   "source": [
    "balances"
   ]
  },
  {
   "cell_type": "code",
   "execution_count": 36,
   "metadata": {},
   "outputs": [
    {
     "data": {
      "text/html": [
       "<div>\n",
       "<style scoped>\n",
       "    .dataframe tbody tr th:only-of-type {\n",
       "        vertical-align: middle;\n",
       "    }\n",
       "\n",
       "    .dataframe tbody tr th {\n",
       "        vertical-align: top;\n",
       "    }\n",
       "\n",
       "    .dataframe thead th {\n",
       "        text-align: right;\n",
       "    }\n",
       "</style>\n",
       "<table border=\"1\" class=\"dataframe\">\n",
       "  <thead>\n",
       "    <tr style=\"text-align: right;\">\n",
       "      <th></th>\n",
       "      <th>bankName</th>\n",
       "      <th>currentBalance</th>\n",
       "      <th>accountNo</th>\n",
       "      <th>typeAccount</th>\n",
       "    </tr>\n",
       "  </thead>\n",
       "  <tbody>\n",
       "    <tr>\n",
       "      <th>0</th>\n",
       "      <td>PNB</td>\n",
       "      <td>554047</td>\n",
       "      <td>XXXXXXXXXX1006</td>\n",
       "      <td>SAVINGS</td>\n",
       "    </tr>\n",
       "  </tbody>\n",
       "</table>\n",
       "</div>"
      ],
      "text/plain": [
       "  bankName currentBalance       accountNo typeAccount\n",
       "0      PNB         554047  XXXXXXXXXX1006     SAVINGS"
      ]
     },
     "execution_count": 36,
     "metadata": {},
     "output_type": "execute_result"
    }
   ],
   "source": [
    "df_out = pd.DataFrame({\"bankName\": bank_name, \"currentBalance\": balances, \"accountNo\": account_no, \"typeAccount\": account_type})\n",
    "df_out"
   ]
  },
  {
   "cell_type": "code",
   "execution_count": 37,
   "metadata": {},
   "outputs": [],
   "source": [
    "df_out.to_json(\"../web-app/server/src/output_df.json\", orient = 'records')"
   ]
  },
  {
   "cell_type": "code",
   "execution_count": null,
   "metadata": {},
   "outputs": [],
   "source": []
  }
 ],
 "metadata": {
  "kernelspec": {
   "display_name": "Python 3",
   "language": "python",
   "name": "python3"
  },
  "language_info": {
   "codemirror_mode": {
    "name": "ipython",
    "version": 3
   },
   "file_extension": ".py",
   "mimetype": "text/x-python",
   "name": "python",
   "nbconvert_exporter": "python",
   "pygments_lexer": "ipython3",
   "version": "3.7.7"
  },
  "toc": {
   "base_numbering": 1,
   "nav_menu": {},
   "number_sections": true,
   "sideBar": true,
   "skip_h1_title": false,
   "title_cell": "Table of Contents",
   "title_sidebar": "Contents",
   "toc_cell": false,
   "toc_position": {},
   "toc_section_display": true,
   "toc_window_display": false
  },
  "varInspector": {
   "cols": {
    "lenName": 16,
    "lenType": 16,
    "lenVar": 40
   },
   "kernels_config": {
    "python": {
     "delete_cmd_postfix": "",
     "delete_cmd_prefix": "del ",
     "library": "var_list.py",
     "varRefreshCmd": "print(var_dic_list())"
    },
    "r": {
     "delete_cmd_postfix": ") ",
     "delete_cmd_prefix": "rm(",
     "library": "var_list.r",
     "varRefreshCmd": "cat(var_dic_list()) "
    }
   },
   "types_to_exclude": [
    "module",
    "function",
    "builtin_function_or_method",
    "instance",
    "_Feature"
   ],
   "window_display": false
  }
 },
 "nbformat": 4,
 "nbformat_minor": 4
}
