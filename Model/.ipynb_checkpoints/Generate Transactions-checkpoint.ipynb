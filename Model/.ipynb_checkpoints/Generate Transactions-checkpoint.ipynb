{
 "cells": [
  {
   "cell_type": "code",
   "execution_count": null,
   "metadata": {},
   "outputs": [],
   "source": [
    "def combine_all(f1,f2,f3,f4,f5,f6)"
   ]
  },
  {
   "cell_type": "code",
   "execution_count": null,
   "metadata": {},
   "outputs": [],
   "source": [
    "def random_number_id(length):\n",
    "    key = ''\n",
    "    for i in range(length):\n",
    "        key += random.choice(string.digits)\n",
    "    if key in already_list:\n",
    "        random_number_id(length)\n",
    "    already_list.append(key)\n",
    "    return key"
   ]
  },
  {
   "cell_type": "code",
   "execution_count": null,
   "metadata": {},
   "outputs": [],
   "source": [
    "def gen_f1(merchant):\n",
    "    length = random.choice([14,15,13,16])\n",
    "    if merchant == \"OTHER\":\n",
    "        key = ''\n",
    "        for i in range(length):\n",
    "            key += random.choice(string.uppercase + string.digits)\n",
    "        if key in already_list_alpha:\n",
    "            gen_f1(merchant)\n",
    "        else:\n",
    "            return key\n",
    "    else:\n",
    "        return merchant"
   ]
  },
  {
   "cell_type": "code",
   "execution_count": null,
   "metadata": {},
   "outputs": [],
   "source": [
    "'''\n",
    "def gen_upi_trans():\n",
    "    f1 = gen_f1(\"UPI\")\n",
    "    f2 = random_number_id(12)\n",
    "    f3 = \n",
    "    f4 = \n",
    "    f5 = random.choice([\"HDFC BANK\", \"Axis Bank\", \"PNB Bank\", \"ICIC Bank\", 'Indulsnd Bank', \"SBI\", \"OBC\"])\n",
    "'''"
   ]
  },
  {
   "cell_type": "code",
   "execution_count": null,
   "metadata": {},
   "outputs": [],
   "source": []
  }
 ],
 "metadata": {
  "kernelspec": {
   "display_name": "Python 3",
   "language": "python",
   "name": "python3"
  },
  "language_info": {
   "codemirror_mode": {
    "name": "ipython",
    "version": 3
   },
   "file_extension": ".py",
   "mimetype": "text/x-python",
   "name": "python",
   "nbconvert_exporter": "python",
   "pygments_lexer": "ipython3",
   "version": "3.7.7"
  },
  "toc": {
   "base_numbering": 1,
   "nav_menu": {},
   "number_sections": true,
   "sideBar": true,
   "skip_h1_title": false,
   "title_cell": "Table of Contents",
   "title_sidebar": "Contents",
   "toc_cell": false,
   "toc_position": {},
   "toc_section_display": true,
   "toc_window_display": false
  },
  "varInspector": {
   "cols": {
    "lenName": 16,
    "lenType": 16,
    "lenVar": 40
   },
   "kernels_config": {
    "python": {
     "delete_cmd_postfix": "",
     "delete_cmd_prefix": "del ",
     "library": "var_list.py",
     "varRefreshCmd": "print(var_dic_list())"
    },
    "r": {
     "delete_cmd_postfix": ") ",
     "delete_cmd_prefix": "rm(",
     "library": "var_list.r",
     "varRefreshCmd": "cat(var_dic_list()) "
    }
   },
   "types_to_exclude": [
    "module",
    "function",
    "builtin_function_or_method",
    "instance",
    "_Feature"
   ],
   "window_display": false
  }
 },
 "nbformat": 4,
 "nbformat_minor": 4
}
