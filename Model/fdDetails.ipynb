{
 "cells": [
  {
   "cell_type": "code",
   "execution_count": 1,
   "metadata": {},
   "outputs": [],
   "source": [
    "import json\n",
    "import csv\n",
    "import pandas as pd\n",
    "import numpy as np"
   ]
  },
  {
   "cell_type": "code",
   "execution_count": 2,
   "metadata": {},
   "outputs": [],
   "source": [
    "def json2csv(json_name, csv_name, key):\n",
    "    with open(json_name) as json_file:\n",
    "        data = json.load(json_file)\n",
    "    transaction_data = data[key]\n",
    "    data_file = open(csv_name, 'w') \n",
    "    csv_writer = csv.writer(data_file)\n",
    "    count = 0\n",
    "    for tran in transaction_data:\n",
    "        if count == 0: \n",
    "            # Writing headers of CSV file \n",
    "            header = tran.keys()\n",
    "            csv_writer.writerow(header) \n",
    "            count += 1\n",
    "        # Writing data of CSV file \n",
    "        csv_writer.writerow(tran.values())\n",
    "    data_file.close() "
   ]
  },
  {
   "cell_type": "code",
   "execution_count": 3,
   "metadata": {},
   "outputs": [],
   "source": [
    "json2csv('allfidata_fish.json', 'bank_details.csv', 'data')"
   ]
  },
  {
   "cell_type": "code",
   "execution_count": 4,
   "metadata": {},
   "outputs": [],
   "source": [
    "df = pd.read_csv('bank_details.csv')"
   ]
  },
  {
   "cell_type": "code",
   "execution_count": 5,
   "metadata": {},
   "outputs": [
    {
     "data": {
      "text/html": [
       "<div>\n",
       "<style scoped>\n",
       "    .dataframe tbody tr th:only-of-type {\n",
       "        vertical-align: middle;\n",
       "    }\n",
       "\n",
       "    .dataframe tbody tr th {\n",
       "        vertical-align: top;\n",
       "    }\n",
       "\n",
       "    .dataframe thead th {\n",
       "        text-align: right;\n",
       "    }\n",
       "</style>\n",
       "<table border=\"1\" class=\"dataframe\">\n",
       "  <thead>\n",
       "    <tr style=\"text-align: right;\">\n",
       "      <th></th>\n",
       "      <th>linkReferenceNumber</th>\n",
       "      <th>maskedAccountNumber</th>\n",
       "      <th>bank</th>\n",
       "      <th>Summary</th>\n",
       "      <th>Profile</th>\n",
       "      <th>Transactions</th>\n",
       "    </tr>\n",
       "  </thead>\n",
       "  <tbody>\n",
       "    <tr>\n",
       "      <th>0</th>\n",
       "      <td>11fabe78-0a59-4c71-8fdb-57e54779d236</td>\n",
       "      <td>XXXXXXXXXX5055</td>\n",
       "      <td>FinShareBankServer</td>\n",
       "      <td>{'currentBalance': '101666.33', 'currency': 'I...</td>\n",
       "      <td>{'Holders': {'type': 'SINGLE', 'Holder': [{'na...</td>\n",
       "      <td>{'startDate': '2019-07-11', 'endDate': '2019-0...</td>\n",
       "    </tr>\n",
       "    <tr>\n",
       "      <th>1</th>\n",
       "      <td>4797daf8-75df-4359-8e61-a710d7e114fa</td>\n",
       "      <td>XXXXXXXXXX5055</td>\n",
       "      <td>FinShareBankServer</td>\n",
       "      <td>{'branch': 'Jayanagar 4th Block', 'openingDate...</td>\n",
       "      <td>{'Holders': {'type': 'SINGLE', 'Holder': [{'na...</td>\n",
       "      <td>{'startDate': '2019-07-11', 'endDate': '2020-0...</td>\n",
       "    </tr>\n",
       "    <tr>\n",
       "      <th>2</th>\n",
       "      <td>d68d3aa8-4d6d-4365-afd1-4f0822eb5d7e</td>\n",
       "      <td>XXXXXXXXXX0256</td>\n",
       "      <td>FinShareBankServer</td>\n",
       "      <td>{'branch': 'JayaNagar 4th Block', 'openingDate...</td>\n",
       "      <td>{'Holders': {'type': 'SINGLE', 'Holder': [{'na...</td>\n",
       "      <td>{'startDate': '2019-07-11', 'endDate': '2020-0...</td>\n",
       "    </tr>\n",
       "  </tbody>\n",
       "</table>\n",
       "</div>"
      ],
      "text/plain": [
       "                    linkReferenceNumber maskedAccountNumber  \\\n",
       "0  11fabe78-0a59-4c71-8fdb-57e54779d236      XXXXXXXXXX5055   \n",
       "1  4797daf8-75df-4359-8e61-a710d7e114fa      XXXXXXXXXX5055   \n",
       "2  d68d3aa8-4d6d-4365-afd1-4f0822eb5d7e      XXXXXXXXXX0256   \n",
       "\n",
       "                 bank                                            Summary  \\\n",
       "0  FinShareBankServer  {'currentBalance': '101666.33', 'currency': 'I...   \n",
       "1  FinShareBankServer  {'branch': 'Jayanagar 4th Block', 'openingDate...   \n",
       "2  FinShareBankServer  {'branch': 'JayaNagar 4th Block', 'openingDate...   \n",
       "\n",
       "                                             Profile  \\\n",
       "0  {'Holders': {'type': 'SINGLE', 'Holder': [{'na...   \n",
       "1  {'Holders': {'type': 'SINGLE', 'Holder': [{'na...   \n",
       "2  {'Holders': {'type': 'SINGLE', 'Holder': [{'na...   \n",
       "\n",
       "                                        Transactions  \n",
       "0  {'startDate': '2019-07-11', 'endDate': '2019-0...  \n",
       "1  {'startDate': '2019-07-11', 'endDate': '2020-0...  \n",
       "2  {'startDate': '2019-07-11', 'endDate': '2020-0...  "
      ]
     },
     "execution_count": 5,
     "metadata": {},
     "output_type": "execute_result"
    }
   ],
   "source": [
    "df"
   ]
  },
  {
   "cell_type": "code",
   "execution_count": 6,
   "metadata": {},
   "outputs": [
    {
     "data": {
      "text/plain": [
       "\"{'branch': 'Jayanagar 4th Block', 'openingDate': '2019-12-22', 'ifsc': 'ICIC0001124', 'accountType': 'FIXED', 'maturityDate': '2021-01-16', 'maturityAmount': '105622.00', 'description': '390 Days Cumulative Term Deposit ', 'interestPayout': 'OnMaturity', 'interestRate': '5.15', 'principalAmount': '100000.00', 'tenureDays': '390', 'tenureMonths': '0', 'tenureYears': '0', 'interestComputation': 'COMPOUND', 'compoundingFrequency': 'QUARTERLY', 'interestPeriodicPayoutAmount': '0', 'interestOnMaturity': '5622', 'currentValue': '100000.00'}\""
      ]
     },
     "execution_count": 6,
     "metadata": {},
     "output_type": "execute_result"
    }
   ],
   "source": [
    "df[\"Summary\"][1]"
   ]
  },
  {
   "cell_type": "code",
   "execution_count": 13,
   "metadata": {},
   "outputs": [],
   "source": [
    "bank_name, account_type, account_no, principalAmount, maturityAmount, openingDate, maturityDate, interestRate, description  = [], [], [], [], [], [], [], [], []\n",
    "for i in range(df.shape[0]):\n",
    "    stri1 = df.at[i,\"Summary\"].replace(\"{\",\"\")\n",
    "    stri1 = stri1.replace(\"'\",'')\n",
    "    #print(stri1)\n",
    "    li = stri1.split(',')\n",
    "    #print(li)\n",
    "    type_ac = li[3].split(':')\n",
    "    #print(type_ac)\n",
    "    type_account1 = type_ac[1].strip() #Account type\n",
    "    #print(type_account1)\n",
    "    if type_account1 == \"FIXED\":\n",
    "        #print(\"in\")\n",
    "        bank_name1 = df.at[i,\"bank\"] #Bank name\n",
    "        account_no1 = df.at[i,\"maskedAccountNumber\"] #Account no\n",
    "        opening_da = li[1].split(\":\")\n",
    "        opening_date1 = opening_da[1].strip() #Opening Date\n",
    "        maturity_da = li[4].split(':')\n",
    "        maturity_date1 = maturity_da[1].strip() #Maturity date\n",
    "        maturity_am = li[5].split(\":\")\n",
    "        maturity_amount1 = maturity_am[1].strip() #Maturity Amount\n",
    "        desc = li[6].split(\":\")\n",
    "        description1 = desc[1].strip() #Description\n",
    "        int_rate = li[8].split(\":\")\n",
    "        interest_rate1 = int_rate[1].strip() #Interest Rate\n",
    "        principal_am = li[9].split(':')\n",
    "        principal_amount1 = principal_am[1].strip() #Principal Amount\n",
    "        bank_name.append(bank_name1)\n",
    "        account_type.append(type_account1)\n",
    "        account_no.append(account_no1)\n",
    "        openingDate.append(opening_date1)\n",
    "        maturityDate.append(maturity_date1)\n",
    "        principalAmount.append(principal_amount1)\n",
    "        maturityAmount.append(maturity_amount1)\n",
    "        interestRate.append(interest_rate1)\n",
    "        description.append(description1)\n",
    "        #print(bank_name, account_type, account_no, principalAmount, maturityAmount, openingDate, maturityDate, interestRate)\n",
    "        #Account Type\n",
    "        #print (bank_name1, current_balance1, account_no1, type_account1)\n",
    "\n"
   ]
  },
  {
   "cell_type": "code",
   "execution_count": 16,
   "metadata": {},
   "outputs": [
    {
     "data": {
      "text/html": [
       "<div>\n",
       "<style scoped>\n",
       "    .dataframe tbody tr th:only-of-type {\n",
       "        vertical-align: middle;\n",
       "    }\n",
       "\n",
       "    .dataframe tbody tr th {\n",
       "        vertical-align: top;\n",
       "    }\n",
       "\n",
       "    .dataframe thead th {\n",
       "        text-align: right;\n",
       "    }\n",
       "</style>\n",
       "<table border=\"1\" class=\"dataframe\">\n",
       "  <thead>\n",
       "    <tr style=\"text-align: right;\">\n",
       "      <th></th>\n",
       "      <th>bankName</th>\n",
       "      <th>accountNo</th>\n",
       "      <th>typeAccount</th>\n",
       "      <th>principalAmount</th>\n",
       "      <th>maturityAmount</th>\n",
       "      <th>openingDate</th>\n",
       "      <th>maturityDate</th>\n",
       "      <th>interestRate</th>\n",
       "      <th>description</th>\n",
       "    </tr>\n",
       "  </thead>\n",
       "  <tbody>\n",
       "    <tr>\n",
       "      <th>0</th>\n",
       "      <td>FinShareBankServer</td>\n",
       "      <td>XXXXXXXXXX5055</td>\n",
       "      <td>FIXED</td>\n",
       "      <td>100000.00</td>\n",
       "      <td>105622.00</td>\n",
       "      <td>2019-12-22</td>\n",
       "      <td>2021-01-16</td>\n",
       "      <td>5.15</td>\n",
       "      <td>390 Days Cumulative Term Deposit</td>\n",
       "    </tr>\n",
       "  </tbody>\n",
       "</table>\n",
       "</div>"
      ],
      "text/plain": [
       "             bankName       accountNo typeAccount principalAmount  \\\n",
       "0  FinShareBankServer  XXXXXXXXXX5055       FIXED       100000.00   \n",
       "\n",
       "  maturityAmount openingDate maturityDate interestRate  \\\n",
       "0      105622.00  2019-12-22   2021-01-16         5.15   \n",
       "\n",
       "                        description  \n",
       "0  390 Days Cumulative Term Deposit  "
      ]
     },
     "execution_count": 16,
     "metadata": {},
     "output_type": "execute_result"
    }
   ],
   "source": [
    "df_out = pd.DataFrame({\"bankName\": bank_name, \"accountNo\": account_no, \"typeAccount\": account_type, \n",
    "                      \"principalAmount\": principalAmount, \"maturityAmount\": maturityAmount, \"openingDate\":openingDate, \"maturityDate\": maturityDate, \n",
    "                       \"interestRate\": interestRate, \"description\": description})\n",
    "df_out"
   ]
  },
  {
   "cell_type": "code",
   "execution_count": 17,
   "metadata": {},
   "outputs": [],
   "source": [
    "df_out.to_json(\"../web-app/server/src/fdDetails.json\", orient = 'records')"
   ]
  },
  {
   "cell_type": "code",
   "execution_count": null,
   "metadata": {},
   "outputs": [],
   "source": []
  }
 ],
 "metadata": {
  "kernelspec": {
   "display_name": "Python 3",
   "language": "python",
   "name": "python3"
  },
  "language_info": {
   "codemirror_mode": {
    "name": "ipython",
    "version": 3
   },
   "file_extension": ".py",
   "mimetype": "text/x-python",
   "name": "python",
   "nbconvert_exporter": "python",
   "pygments_lexer": "ipython3",
   "version": "3.7.7"
  },
  "toc": {
   "base_numbering": 1,
   "nav_menu": {},
   "number_sections": true,
   "sideBar": true,
   "skip_h1_title": false,
   "title_cell": "Table of Contents",
   "title_sidebar": "Contents",
   "toc_cell": false,
   "toc_position": {},
   "toc_section_display": true,
   "toc_window_display": false
  },
  "varInspector": {
   "cols": {
    "lenName": 16,
    "lenType": 16,
    "lenVar": 40
   },
   "kernels_config": {
    "python": {
     "delete_cmd_postfix": "",
     "delete_cmd_prefix": "del ",
     "library": "var_list.py",
     "varRefreshCmd": "print(var_dic_list())"
    },
    "r": {
     "delete_cmd_postfix": ") ",
     "delete_cmd_prefix": "rm(",
     "library": "var_list.r",
     "varRefreshCmd": "cat(var_dic_list()) "
    }
   },
   "types_to_exclude": [
    "module",
    "function",
    "builtin_function_or_method",
    "instance",
    "_Feature"
   ],
   "window_display": false
  }
 },
 "nbformat": 4,
 "nbformat_minor": 4
}
