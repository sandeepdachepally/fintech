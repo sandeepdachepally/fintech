{
 "cells": [
  {
   "cell_type": "code",
   "execution_count": 103,
   "metadata": {},
   "outputs": [],
   "source": [
    "import pandas as pd\n",
    "import numpy as np\n",
    "import csv\n",
    "import json\n",
    "import datetime as dt\n",
    "pd.set_option('display.max_rows', None)\n",
    "pd.set_option('display.max_columns', None)\n",
    "pd.set_option('display.width', None)\n",
    "pd.set_option('display.max_colwidth', None)"
   ]
  },
  {
   "cell_type": "code",
   "execution_count": 104,
   "metadata": {},
   "outputs": [],
   "source": [
    "def json2csv(json_name, csv_name, key):\n",
    "    with open(json_name) as json_file:\n",
    "        data = json.load(json_file)\n",
    "    transaction_data = data[key]\n",
    "    data_file = open(csv_name, 'w') \n",
    "    csv_writer = csv.writer(data_file)\n",
    "    count = 0\n",
    "    for tran in transaction_data:\n",
    "        if count == 0: \n",
    "            # Writing headers of CSV file \n",
    "            header = tran.keys()\n",
    "            csv_writer.writerow(header) \n",
    "            count += 1\n",
    "        # Writing data of CSV file \n",
    "        csv_writer.writerow(tran.values())\n",
    "    data_file.close() "
   ]
  },
  {
   "cell_type": "code",
   "execution_count": 105,
   "metadata": {},
   "outputs": [],
   "source": [
    "json2csv('../web-app/server/src/allTransactions.json', 'allTransactions.csv', 'data')"
   ]
  },
  {
   "cell_type": "code",
   "execution_count": 106,
   "metadata": {},
   "outputs": [],
   "source": [
    "df = pd.read_csv('allTransactions.csv')"
   ]
  },
  {
   "cell_type": "code",
   "execution_count": 128,
   "metadata": {},
   "outputs": [],
   "source": [
    "df[\"month\"] = \"\""
   ]
  },
  {
   "cell_type": "code",
   "execution_count": 134,
   "metadata": {},
   "outputs": [
    {
     "name": "stderr",
     "output_type": "stream",
     "text": [
      "/home/fish/anaconda3/lib/python3.7/site-packages/ipykernel_launcher.py:2: SettingWithCopyWarning: \n",
      "A value is trying to be set on a copy of a slice from a DataFrame\n",
      "\n",
      "See the caveats in the documentation: https://pandas.pydata.org/pandas-docs/stable/user_guide/indexing.html#returning-a-view-versus-a-copy\n",
      "  \n"
     ]
    }
   ],
   "source": [
    "for i in range(df.shape[0]):\n",
    "    df[\"month\"][i] = df[\"valueDate\"][i][5:7]"
   ]
  },
  {
   "cell_type": "code",
   "execution_count": 135,
   "metadata": {},
   "outputs": [
    {
     "data": {
      "text/plain": [
       "'\\n(After all taxes) (per month)\\n50% - essentials\\n30% - wants\\n20% - savings\\n\\nIncome = all credit\\n'"
      ]
     },
     "execution_count": 135,
     "metadata": {},
     "output_type": "execute_result"
    }
   ],
   "source": [
    "#50/30/20 rule:\n",
    "'''\n",
    "(After all taxes) (per month)\n",
    "50% - essentials\n",
    "30% - wants\n",
    "20% - savings\n",
    "\n",
    "Income = all credit\n",
    "'''"
   ]
  },
  {
   "cell_type": "code",
   "execution_count": 143,
   "metadata": {},
   "outputs": [],
   "source": [
    "df = df[df[\"month\"] == \"07\"]\n",
    "df = df.reset_index()"
   ]
  },
  {
   "cell_type": "code",
   "execution_count": 144,
   "metadata": {},
   "outputs": [],
   "source": [
    "categories_list = set(df[\"category\"].tolist())"
   ]
  },
  {
   "cell_type": "code",
   "execution_count": 145,
   "metadata": {},
   "outputs": [
    {
     "data": {
      "text/plain": [
       "{'Bills',\n",
       " 'Cash Withdrawal',\n",
       " 'Credit Card',\n",
       " 'Entertainment',\n",
       " 'Foods and Drinks',\n",
       " 'Fuel',\n",
       " 'Groceries',\n",
       " 'Insurance',\n",
       " 'Investment',\n",
       " 'Loan (EMI)',\n",
       " 'Other',\n",
       " 'Rent',\n",
       " 'Shopping'}"
      ]
     },
     "execution_count": 145,
     "metadata": {},
     "output_type": "execute_result"
    }
   ],
   "source": [
    "categories_list"
   ]
  },
  {
   "cell_type": "code",
   "execution_count": 146,
   "metadata": {},
   "outputs": [],
   "source": [
    "income_list = [\"Other\"] #all credit\n",
    "ess_list = [\"Bills\", \"Cash Withdrawal\", \"Groceries\", \"Rent\", \"Loan (EMI)\", \"Personal Care\", \"Health\", \"Insurance\", \"Fuel\", ]\n",
    "wants_list = [\"Credit Card\", \"Entertainment\", \"Food and Drinks\", \"Travel\", \"Transfer\"]\n",
    "savings_list = [\"Investment\"]\n",
    "#len(income)+len(ess_list)+len(wants)"
   ]
  },
  {
   "cell_type": "code",
   "execution_count": 147,
   "metadata": {},
   "outputs": [],
   "source": [
    "income_amnt = 0\n",
    "ess_amnt = 0\n",
    "wants_amnt = 0\n",
    "savings_amnt = 0\n",
    "for i in range(df.shape[0]):\n",
    "    c = df[\"category\"][i]\n",
    "    amt = int(df[\"amount\"][i])\n",
    "    if c in income_list:\n",
    "        income_amnt += amt\n",
    "    elif c in ess_list:\n",
    "        ess_amnt += amt\n",
    "    elif c in wants_list:\n",
    "        wants_amnt += amt\n",
    "    elif c in savings_list:\n",
    "        savings_amnt += amt\n",
    "        "
   ]
  },
  {
   "cell_type": "code",
   "execution_count": 148,
   "metadata": {},
   "outputs": [
    {
     "data": {
      "text/plain": [
       "(175005, 48054, 16791, 29000)"
      ]
     },
     "execution_count": 148,
     "metadata": {},
     "output_type": "execute_result"
    }
   ],
   "source": [
    "(income_amnt, ess_amnt, wants_amnt, savings_amnt)"
   ]
  },
  {
   "cell_type": "code",
   "execution_count": 149,
   "metadata": {},
   "outputs": [],
   "source": [
    "ess_base = income_amnt*.50\n",
    "wants_base = income_amnt*.30\n",
    "savings_base = income_amnt *.20"
   ]
  },
  {
   "cell_type": "code",
   "execution_count": 150,
   "metadata": {},
   "outputs": [],
   "source": [
    "sav = income_amnt - (ess_amnt + wants_amnt + savings_amnt)"
   ]
  },
  {
   "cell_type": "code",
   "execution_count": 151,
   "metadata": {},
   "outputs": [],
   "source": [
    "savings_amnt += sav"
   ]
  },
  {
   "cell_type": "code",
   "execution_count": 152,
   "metadata": {},
   "outputs": [
    {
     "data": {
      "text/plain": [
       "110160"
      ]
     },
     "execution_count": 152,
     "metadata": {},
     "output_type": "execute_result"
    }
   ],
   "source": [
    "savings_amnt"
   ]
  },
  {
   "cell_type": "code",
   "execution_count": 153,
   "metadata": {},
   "outputs": [],
   "source": [
    "split = [\"Income\", \"Needs\", \"Wants\", \"Savings\"] "
   ]
  },
  {
   "cell_type": "code",
   "execution_count": 154,
   "metadata": {},
   "outputs": [],
   "source": [
    "base = [int(income_amnt), int(ess_base), int(wants_base), int(savings_base)]\n",
    "current = [income_amnt, ess_amnt, wants_amnt, savings_amnt]"
   ]
  },
  {
   "cell_type": "code",
   "execution_count": 155,
   "metadata": {},
   "outputs": [],
   "source": [
    "comparison_df = pd.DataFrame({\"split\": split, \"base\":base, \"current\":current})"
   ]
  },
  {
   "cell_type": "code",
   "execution_count": 156,
   "metadata": {},
   "outputs": [],
   "source": [
    "comparison_df[\"msg\"]=\"\""
   ]
  },
  {
   "cell_type": "code",
   "execution_count": 157,
   "metadata": {},
   "outputs": [
    {
     "name": "stderr",
     "output_type": "stream",
     "text": [
      "/home/fish/anaconda3/lib/python3.7/site-packages/ipykernel_launcher.py:11: SettingWithCopyWarning: \n",
      "A value is trying to be set on a copy of a slice from a DataFrame\n",
      "\n",
      "See the caveats in the documentation: https://pandas.pydata.org/pandas-docs/stable/user_guide/indexing.html#returning-a-view-versus-a-copy\n",
      "  # This is added back by InteractiveShellApp.init_path()\n"
     ]
    }
   ],
   "source": [
    "for i in range(1,3):\n",
    "    name = comparison_df[\"split\"][i]\n",
    "    bas = comparison_df[\"base\"][i]\n",
    "    cur = comparison_df[\"current\"][i]\n",
    "    if bas > cur:\n",
    "        msg = \"You can spend \"+ \"₹ \"+ str(bas-cur) + \" more on \" + name+\"!\"\n",
    "    elif bas<cur:\n",
    "        msg = \"You are spending more on \"+name+\". You should spend around ₹ \"+str(bas)+ \" on \"+name+\"!\"\n",
    "    else:\n",
    "        msg = \"You are managing your \" +name +\" properly\"\n",
    "    comparison_df[\"msg\"][i] = msg"
   ]
  },
  {
   "cell_type": "code",
   "execution_count": 160,
   "metadata": {},
   "outputs": [
    {
     "name": "stderr",
     "output_type": "stream",
     "text": [
      "/home/fish/anaconda3/lib/python3.7/site-packages/ipykernel_launcher.py:2: SettingWithCopyWarning: \n",
      "A value is trying to be set on a copy of a slice from a DataFrame\n",
      "\n",
      "See the caveats in the documentation: https://pandas.pydata.org/pandas-docs/stable/user_guide/indexing.html#returning-a-view-versus-a-copy\n",
      "  \n",
      "/home/fish/anaconda3/lib/python3.7/site-packages/ipykernel_launcher.py:11: SettingWithCopyWarning: \n",
      "A value is trying to be set on a copy of a slice from a DataFrame\n",
      "\n",
      "See the caveats in the documentation: https://pandas.pydata.org/pandas-docs/stable/user_guide/indexing.html#returning-a-view-versus-a-copy\n",
      "  # This is added back by InteractiveShellApp.init_path()\n"
     ]
    }
   ],
   "source": [
    "#Msg for income\n",
    "comparison_df[\"msg\"][0] = \"This is your this month's income!\"\n",
    "#Msg for savings\n",
    "bas = comparison_df[\"base\"][3]\n",
    "cur = comparison_df[\"current\"][3]\n",
    "if bas == cur:\n",
    "    comparison_df[\"msg\"][3] = \"You are managing your savings very well!\"\n",
    "elif bas>cur:\n",
    "    comparison_df[\"msg\"][3] = \"You should save more money for a stable future. Trying saving atleast ₹ \" + bas + \" next month!\"\n",
    "elif cur>bas:\n",
    "    comparison_df[\"msg\"][3] = \"You are managing your savings very well!\""
   ]
  },
  {
   "cell_type": "code",
   "execution_count": 162,
   "metadata": {},
   "outputs": [
    {
     "data": {
      "text/html": [
       "<div>\n",
       "<style scoped>\n",
       "    .dataframe tbody tr th:only-of-type {\n",
       "        vertical-align: middle;\n",
       "    }\n",
       "\n",
       "    .dataframe tbody tr th {\n",
       "        vertical-align: top;\n",
       "    }\n",
       "\n",
       "    .dataframe thead th {\n",
       "        text-align: right;\n",
       "    }\n",
       "</style>\n",
       "<table border=\"1\" class=\"dataframe\">\n",
       "  <thead>\n",
       "    <tr style=\"text-align: right;\">\n",
       "      <th></th>\n",
       "      <th>split</th>\n",
       "      <th>base</th>\n",
       "      <th>current</th>\n",
       "      <th>msg</th>\n",
       "    </tr>\n",
       "  </thead>\n",
       "  <tbody>\n",
       "    <tr>\n",
       "      <th>0</th>\n",
       "      <td>Income</td>\n",
       "      <td>175005</td>\n",
       "      <td>175005</td>\n",
       "      <td>This is your this month's income!</td>\n",
       "    </tr>\n",
       "    <tr>\n",
       "      <th>1</th>\n",
       "      <td>Needs</td>\n",
       "      <td>87502</td>\n",
       "      <td>48054</td>\n",
       "      <td>You can spend ₹ 39448 more on Needs!</td>\n",
       "    </tr>\n",
       "    <tr>\n",
       "      <th>2</th>\n",
       "      <td>Wants</td>\n",
       "      <td>52501</td>\n",
       "      <td>16791</td>\n",
       "      <td>You can spend ₹ 35710 more on Wants!</td>\n",
       "    </tr>\n",
       "    <tr>\n",
       "      <th>3</th>\n",
       "      <td>Savings</td>\n",
       "      <td>35001</td>\n",
       "      <td>110160</td>\n",
       "      <td>You are managing your savings very well!</td>\n",
       "    </tr>\n",
       "  </tbody>\n",
       "</table>\n",
       "</div>"
      ],
      "text/plain": [
       "     split    base  current                                       msg\n",
       "0   Income  175005   175005         This is your this month's income!\n",
       "1    Needs   87502    48054      You can spend ₹ 39448 more on Needs!\n",
       "2    Wants   52501    16791      You can spend ₹ 35710 more on Wants!\n",
       "3  Savings   35001   110160  You are managing your savings very well!"
      ]
     },
     "execution_count": 162,
     "metadata": {},
     "output_type": "execute_result"
    }
   ],
   "source": [
    "comparison_df"
   ]
  },
  {
   "cell_type": "code",
   "execution_count": null,
   "metadata": {},
   "outputs": [],
   "source": []
  }
 ],
 "metadata": {
  "kernelspec": {
   "display_name": "Python 3",
   "language": "python",
   "name": "python3"
  },
  "language_info": {
   "codemirror_mode": {
    "name": "ipython",
    "version": 3
   },
   "file_extension": ".py",
   "mimetype": "text/x-python",
   "name": "python",
   "nbconvert_exporter": "python",
   "pygments_lexer": "ipython3",
   "version": "3.7.7"
  },
  "toc": {
   "base_numbering": 1,
   "nav_menu": {},
   "number_sections": true,
   "sideBar": true,
   "skip_h1_title": false,
   "title_cell": "Table of Contents",
   "title_sidebar": "Contents",
   "toc_cell": false,
   "toc_position": {},
   "toc_section_display": true,
   "toc_window_display": false
  },
  "varInspector": {
   "cols": {
    "lenName": 16,
    "lenType": 16,
    "lenVar": 40
   },
   "kernels_config": {
    "python": {
     "delete_cmd_postfix": "",
     "delete_cmd_prefix": "del ",
     "library": "var_list.py",
     "varRefreshCmd": "print(var_dic_list())"
    },
    "r": {
     "delete_cmd_postfix": ") ",
     "delete_cmd_prefix": "rm(",
     "library": "var_list.r",
     "varRefreshCmd": "cat(var_dic_list()) "
    }
   },
   "types_to_exclude": [
    "module",
    "function",
    "builtin_function_or_method",
    "instance",
    "_Feature"
   ],
   "window_display": false
  }
 },
 "nbformat": 4,
 "nbformat_minor": 4
}
